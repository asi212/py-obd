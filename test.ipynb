{
 "cells": [
  {
   "cell_type": "code",
   "execution_count": null,
   "metadata": {},
   "outputs": [],
   "source": [
    "from src.obd.obd import OBD\n",
    "import src.obd.commands as commands\n",
    "\n",
    "#connection = OBD() # auto-connects to USB or RF port\n",
    "\n",
    "# speed = commands.SPEED # select an OBD command (sensor)\n",
    "# rpm = commands.RPM\n",
    "\n",
    "# import time\n",
    "#\"SHORT_FUEL_TRIM_1\"  and 2, fuel pressure, intake temp, timing advance,\n",
    "#oil pressure, fuel pressure, timing advance, iat\n",
    "metrics = ['SPEED', 'RPM', 'COOLANT_TEMP', 'THROTTLE_POS', \"O2_B2S4\"]\n",
    "\n",
    "t1 = time.time()\n",
    "while time.time() < t1 + 5:\n",
    "    for i in range(len(metrics)):\n",
    "        metric = commands[metrics[i]]\n",
    "        response = connection.query(metric) # send the command, and parse the response\n",
    "        print(response.value) # returns unit-bearing values thanks to Pint\n",
    "    time.sleep(0.1)"
   ]
  },
  {
   "cell_type": "code",
   "execution_count": 20,
   "metadata": {},
   "outputs": [],
   "source": [
    "import src.obd.commands as commands\n",
    "queries = ['SPEED', 'RPM', 'FUEL_STATUS', 'COOLANT_TEMP', 'THROTTLE_POS']\n",
    "speed = commands[queries[0]]\n",
    "#speed = getattr(commands, queries[0])"
   ]
  },
  {
   "cell_type": "code",
   "execution_count": null,
   "metadata": {},
   "outputs": [],
   "source": []
  }
 ],
 "metadata": {
  "interpreter": {
   "hash": "e0ee4a07c8a52cf980249d72ee64edb4135f60f14b2818eed5d0725d2afc06c9"
  },
  "kernelspec": {
   "display_name": "Python 3.9.1 64-bit ('env': venv)",
   "name": "python3"
  },
  "language_info": {
   "codemirror_mode": {
    "name": "ipython",
    "version": 3
   },
   "file_extension": ".py",
   "mimetype": "text/x-python",
   "name": "python",
   "nbconvert_exporter": "python",
   "pygments_lexer": "ipython3",
   "version": "3.9.1"
  },
  "orig_nbformat": 4
 },
 "nbformat": 4,
 "nbformat_minor": 2
}
