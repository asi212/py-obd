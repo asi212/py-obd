{
 "cells": [
  {
   "cell_type": "code",
   "execution_count": null,
   "metadata": {},
   "outputs": [],
   "source": [
    "from src.obd.obd import OBD\n",
    "import src.obd.commands as commands\n",
    "import time\n",
    "\n",
    "connection = OBD() # auto-connects to USB or RF port\n",
    "\n",
    "#\"SHORT_FUEL_TRIM_1\"  and 2, fuel pressure, intake temp, timing advance,    # other metrics we're specifically interested in\n",
    "#oil pressure, fuel pressure, timing advance, iat\n",
    "\n",
    "metrics = ['SPEED', 'RPM', 'COOLANT_TEMP', 'THROTTLE_POS']\n",
    "t1 = time.time()\n",
    "while time.time() < t1 + 1:\n",
    "    for i in range(len(metrics)):\n",
    "        metric = commands[metrics[i]]\n",
    "        response = connection.query(metric) # send the command, and parse the response\n",
    "        print(response.value) # returns unit-bearing values thanks to Pint\n",
    "        resp_val = response.value\n",
    "    time.sleep(0.1)"
   ]
  },
  {
   "cell_type": "code",
   "execution_count": 126,
   "metadata": {},
   "outputs": [],
   "source": [
    "''' Find available commands '''\n",
    "\n",
    "commands_list = commands.__dict__['modes'][1]\n",
    "responses_list = []\n",
    "for cmd in commands_list:\n",
    "    response = connection.query(commands[cmd.name]).value\n",
    "    responses_list.append(response)\n",
    "\n",
    "available_commands = [commands_list[i].name for i in range(len(commands_list)) if responses_list[i] != None]"
   ]
  },
  {
   "cell_type": "code",
   "execution_count": 127,
   "metadata": {},
   "outputs": [
    {
     "data": {
      "text/plain": [
       "['PIDS_A',\n",
       " 'STATUS',\n",
       " 'FUEL_STATUS',\n",
       " 'ENGINE_LOAD',\n",
       " 'COOLANT_TEMP',\n",
       " 'SHORT_FUEL_TRIM_1',\n",
       " 'LONG_FUEL_TRIM_1',\n",
       " 'SHORT_FUEL_TRIM_2',\n",
       " 'LONG_FUEL_TRIM_2',\n",
       " 'RPM',\n",
       " 'SPEED',\n",
       " 'TIMING_ADVANCE',\n",
       " 'INTAKE_TEMP',\n",
       " 'MAF',\n",
       " 'THROTTLE_POS',\n",
       " 'O2_SENSORS',\n",
       " 'O2_B1S1',\n",
       " 'O2_B1S2',\n",
       " 'O2_B2S1',\n",
       " 'O2_B2S2',\n",
       " 'OBD_COMPLIANCE',\n",
       " 'RUN_TIME',\n",
       " 'PIDS_B',\n",
       " 'DISTANCE_W_MIL',\n",
       " 'EVAPORATIVE_PURGE',\n",
       " 'FUEL_LEVEL',\n",
       " 'WARMUPS_SINCE_DTC_CLEAR',\n",
       " 'DISTANCE_SINCE_DTC_CLEAR',\n",
       " 'EVAP_VAPOR_PRESSURE',\n",
       " 'BAROMETRIC_PRESSURE',\n",
       " 'CATALYST_TEMP_B1S1',\n",
       " 'CATALYST_TEMP_B2S1',\n",
       " 'CATALYST_TEMP_B1S2',\n",
       " 'CATALYST_TEMP_B2S2',\n",
       " 'PIDS_C',\n",
       " 'STATUS_DRIVE_CYCLE',\n",
       " 'CONTROL_MODULE_VOLTAGE',\n",
       " 'ABSOLUTE_LOAD',\n",
       " 'COMMANDED_EQUIV_RATIO',\n",
       " 'RELATIVE_THROTTLE_POS',\n",
       " 'AMBIANT_AIR_TEMP',\n",
       " 'RUN_TIME_MIL',\n",
       " 'TIME_SINCE_DTC_CLEARED']"
      ]
     },
     "execution_count": 127,
     "metadata": {},
     "output_type": "execute_result"
    }
   ],
   "source": [
    "available_commands"
   ]
  },
  {
   "cell_type": "code",
   "execution_count": 123,
   "metadata": {},
   "outputs": [
    {
     "data": {
      "text/plain": [
       "[<src.obd.utils.BitArray at 0x297edd70700>,\n",
       " <src.obd.OBDResponse.Status at 0x297eef31100>,\n",
       " None,\n",
       " ('Closed loop, using oxygen sensor feedback to determine fuel mix',\n",
       "  'Closed loop, using oxygen sensor feedback to determine fuel mix'),\n",
       " 15.294117647058824 <Unit('percent')>,\n",
       " 90 <Unit('degree_Celsius')>,\n",
       " 1.5625 <Unit('percent')>,\n",
       " 1.5625 <Unit('percent')>,\n",
       " 3.90625 <Unit('percent')>,\n",
       " 1.5625 <Unit('percent')>,\n",
       " None,\n",
       " None,\n",
       " 647.0 <Unit('revolutions_per_minute')>,\n",
       " 0.0 <Unit('kilometer_per_hour')>,\n",
       " 11.0 <Unit('degree')>,\n",
       " 69 <Unit('degree_Celsius')>,\n",
       " 3.0500000000000003 <Unit('gps')>,\n",
       " 7.450980392156863 <Unit('percent')>,\n",
       " None,\n",
       " ((), (False, False, True, True), (False, False, True, True)),\n",
       " 0.37 <Unit('volt')>,\n",
       " 0.78 <Unit('volt')>,\n",
       " None,\n",
       " None,\n",
       " 0.075 <Unit('volt')>,\n",
       " 0.745 <Unit('volt')>,\n",
       " None,\n",
       " None,\n",
       " 'OBD-II as defined by the CARB',\n",
       " None,\n",
       " None,\n",
       " 3006.0 <Unit('second')>,\n",
       " <src.obd.utils.BitArray at 0x297eeef4ee0>,\n",
       " 0.0 <Unit('kilometer')>,\n",
       " None,\n",
       " None,\n",
       " None,\n",
       " None,\n",
       " None,\n",
       " None,\n",
       " None,\n",
       " None,\n",
       " None,\n",
       " None,\n",
       " None,\n",
       " None,\n",
       " 5.882352941176471 <Unit('percent')>,\n",
       " 43.92156862745098 <Unit('percent')>,\n",
       " 255.0 <Unit('count')>,\n",
       " 25414.0 <Unit('kilometer')>,\n",
       " -97.5 <Unit('pascal')>,\n",
       " 97 <Unit('kilopascal')>,\n",
       " None,\n",
       " None,\n",
       " None,\n",
       " None,\n",
       " None,\n",
       " None,\n",
       " None,\n",
       " None,\n",
       " 444.1 <Unit('degree_Celsius')>,\n",
       " 444.20000000000005 <Unit('degree_Celsius')>,\n",
       " 401.1 <Unit('degree_Celsius')>,\n",
       " 401.1 <Unit('degree_Celsius')>,\n",
       " <src.obd.utils.BitArray at 0x297eeeb9070>,\n",
       " <src.obd.OBDResponse.Status at 0x297eeeb99d0>,\n",
       " 14.07 <Unit('volt')>,\n",
       " 19.215686274509803 <Unit('percent')>,\n",
       " 0.999424 <Unit('ratio')>,\n",
       " 0.0 <Unit('percent')>,\n",
       " 12 <Unit('degree_Celsius')>,\n",
       " None,\n",
       " None,\n",
       " None,\n",
       " None,\n",
       " None,\n",
       " None,\n",
       " 0.0 <Unit('minute')>,\n",
       " 39914.0 <Unit('minute')>,\n",
       " None,\n",
       " None,\n",
       " None,\n",
       " None,\n",
       " None,\n",
       " None,\n",
       " None,\n",
       " None,\n",
       " None,\n",
       " None,\n",
       " None,\n",
       " None,\n",
       " None,\n",
       " None,\n",
       " None,\n",
       " None,\n",
       " None]"
      ]
     },
     "execution_count": 123,
     "metadata": {},
     "output_type": "execute_result"
    }
   ],
   "source": [
    "responses_list"
   ]
  },
  {
   "cell_type": "code",
   "execution_count": null,
   "metadata": {},
   "outputs": [],
   "source": [
    "print(resp_val.__dict__)"
   ]
  }
 ],
 "metadata": {
  "interpreter": {
   "hash": "e0ee4a07c8a52cf980249d72ee64edb4135f60f14b2818eed5d0725d2afc06c9"
  },
  "kernelspec": {
   "display_name": "Python 3.9.1 64-bit ('env': venv)",
   "name": "python3"
  },
  "language_info": {
   "codemirror_mode": {
    "name": "ipython",
    "version": 3
   },
   "file_extension": ".py",
   "mimetype": "text/x-python",
   "name": "python",
   "nbconvert_exporter": "python",
   "pygments_lexer": "ipython3",
   "version": "3.9.1"
  },
  "orig_nbformat": 4
 },
 "nbformat": 4,
 "nbformat_minor": 2
}
