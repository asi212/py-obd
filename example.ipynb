{
 "cells": [
  {
   "cell_type": "markdown",
   "metadata": {},
   "source": [
    "# Initiate Connection"
   ]
  },
  {
   "cell_type": "code",
   "execution_count": null,
   "metadata": {},
   "outputs": [],
   "source": [
    "from src.obd.obd import OBD\n",
    "\n",
    "connection = OBD() # auto-connects to USB or RF port"
   ]
  },
  {
   "cell_type": "markdown",
   "metadata": {},
   "source": [
    "# Get commands available for connected car"
   ]
  },
  {
   "cell_type": "code",
   "execution_count": 126,
   "metadata": {},
   "outputs": [],
   "source": [
    "from src.analysis.get_available_commands import GetAvailableCommands\n",
    "\n",
    "getter = GetAvailableCommands(connection=connection)\n",
    "available_commands = getter.run()"
   ]
  },
  {
   "cell_type": "markdown",
   "metadata": {},
   "source": [
    "# Stream Metrics"
   ]
  },
  {
   "cell_type": "code",
   "execution_count": null,
   "metadata": {},
   "outputs": [],
   "source": [
    "from src.analysis.stream_metrics import StreamMetrics\n",
    "\n",
    "metrics = ['SPEED', 'RPM', 'COOLANT_TEMP', 'THROTTLE_POS']\n",
    "\n",
    "streamer = StreamMetrics(connection=connection, metrics=metrics, refresh_time=0.05, verbose=True)\n",
    "streamer.run"
   ]
  }
 ],
 "metadata": {
  "interpreter": {
   "hash": "e0ee4a07c8a52cf980249d72ee64edb4135f60f14b2818eed5d0725d2afc06c9"
  },
  "kernelspec": {
   "display_name": "Python 3.9.1 64-bit ('env': venv)",
   "name": "python3"
  },
  "language_info": {
   "codemirror_mode": {
    "name": "ipython",
    "version": 3
   },
   "file_extension": ".py",
   "mimetype": "text/x-python",
   "name": "python",
   "nbconvert_exporter": "python",
   "pygments_lexer": "ipython3",
   "version": "3.9.1"
  },
  "orig_nbformat": 4
 },
 "nbformat": 4,
 "nbformat_minor": 2
}
